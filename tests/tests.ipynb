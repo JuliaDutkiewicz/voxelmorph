{
  "cells": [
    {
      "cell_type": "code",
      "execution_count": 27,
      "metadata": {
        "collapsed": true,
        "pycharm": {
          "is_executing": false
        }
      },
      "outputs": [],
      "source": "import sys\nsys.path.append(\"../\")\nimport tensorflow as tf\nassert tf.__version__.startswith(\u00272.\u0027), \u0027This tutorial assumes Tensorflow 2.0+\u0027\nimport voxelmorph.tf as vxm\n\n"
    },
    {
      "cell_type": "code",
      "execution_count": 3,
      "outputs": [
        {
          "data": {
            "text/plain": "\u003ctf.Tensor: shape\u003d(3,), dtype\u003dfloat32, numpy\u003darray([0.10650697, 0.786986  , 0.10650697], dtype\u003dfloat32)\u003e"
          },
          "metadata": {},
          "output_type": "execute_result",
          "execution_count": 3
        }
      ],
      "source": [
        "filter \u003d vxm.losses.MIND().get_filter(3)\n",
        "filter"
      ],
      "metadata": {
        "collapsed": false,
        "pycharm": {
          "name": "#%%\n",
          "is_executing": false
        }
      }
    },
    {
      "cell_type": "code",
      "execution_count": 4,
      "outputs": [],
      "source": [
        "filter \u003d tf.constant(\n",
        "    [\n",
        "        [[0,0,0], [0,0.10650697, 0], [0,0,0]],\n",
        "        [[0, 0.10650697,0],[0.10650697, 0.786986  , 0.10650697], [0,0.10650697,0]],\n",
        "        [[0,0,0], [0,0.10650697, 0], [0,0,0]]\n",
        "    ]\n",
        ")"
      ],
      "metadata": {
        "collapsed": false,
        "pycharm": {
          "name": "#%%\n",
          "is_executing": false
        }
      }
    },
    {
      "cell_type": "code",
      "execution_count": 5,
      "outputs": [],
      "source": [
        "tensor \u003d tf.constant(\n",
        "    [\n",
        "        [[1,2,3],[2,3,3], [2,3,3]],\n",
        "        [[3,4,3],[5,6,3], [2,3,3]],\n",
        "        [[7,8,3],[9,0,3], [2,3,3]]\n",
        "    ],  dtype\u003dtf.float32\n",
        ")"
      ],
      "metadata": {
        "collapsed": false,
        "pycharm": {
          "name": "#%%\n",
          "is_executing": false
        }
      }
    },
    {
      "cell_type": "code",
      "execution_count": 6,
      "outputs": [
        {
          "data": {
            "text/plain": "\u003ctf.Tensor: shape\u003d(3, 3, 3), dtype\u003dfloat32, numpy\u003d\narray([[[1., 2., 3.],\n        [2., 3., 3.],\n        [2., 3., 3.]],\n\n       [[3., 4., 3.],\n        [5., 6., 3.],\n        [2., 3., 3.]],\n\n       [[7., 8., 3.],\n        [9., 0., 3.],\n        [2., 3., 3.]]], dtype\u003dfloat32)\u003e"
          },
          "metadata": {},
          "output_type": "execute_result",
          "execution_count": 6
        }
      ],
      "source": [
        "tensor"
      ],
      "metadata": {
        "collapsed": false,
        "pycharm": {
          "name": "#%%\n",
          "is_executing": false
        }
      }
    },
    {
      "cell_type": "code",
      "execution_count": 7,
      "outputs": [
        {
          "data": {
            "text/plain": "\u003ctf.Tensor: shape\u003d(3, 3, 3), dtype\u003dfloat32, numpy\u003d\narray([[[7., 8., 3.],\n        [9., 0., 3.],\n        [2., 3., 3.]],\n\n       [[1., 2., 3.],\n        [2., 3., 3.],\n        [2., 3., 3.]],\n\n       [[3., 4., 3.],\n        [5., 6., 3.],\n        [2., 3., 3.]]], dtype\u003dfloat32)\u003e"
          },
          "metadata": {},
          "output_type": "execute_result",
          "execution_count": 7
        }
      ],
      "source": [
        "vxm.losses.MIND().shift(tensor, 1, 0, 0)"
      ],
      "metadata": {
        "collapsed": false,
        "pycharm": {
          "name": "#%%\n",
          "is_executing": false
        }
      }
    },
    {
      "cell_type": "code",
      "execution_count": 8,
      "outputs": [
        {
          "data": {
            "text/plain": "\u003ctf.Tensor: shape\u003d(3, 1, 3), dtype\u003dfloat32, numpy\u003d\narray([[[0.31952092, 3.4260278 , 0.31952092]],\n\n       [[0.63904184, 6.3195205 , 0.63904184]],\n\n       [[0.        , 2.4496603 , 0.        ]]], dtype\u003dfloat32)\u003e"
          },
          "metadata": {},
          "output_type": "execute_result",
          "execution_count": 8
        }
      ],
      "source": [
        "tf.nn.convolution(tensor, filter )"
      ],
      "metadata": {
        "collapsed": false,
        "pycharm": {
          "name": "#%%\n",
          "is_executing": false
        }
      }
    },
    {
      "cell_type": "code",
      "execution_count": 9,
      "outputs": [
        {
          "data": {
            "text/plain": "TensorShape([3, 3, 3])"
          },
          "metadata": {},
          "output_type": "execute_result",
          "execution_count": 9
        }
      ],
      "source": [
        "tensor.shape"
      ],
      "metadata": {
        "collapsed": false,
        "pycharm": {
          "name": "#%%\n",
          "is_executing": false
        }
      }
    },
    {
      "cell_type": "code",
      "execution_count": 9,
      "outputs": [],
      "source": [],
      "metadata": {
        "collapsed": false,
        "pycharm": {
          "name": "#%%\n",
          "is_executing": false
        }
      }
    },
    {
      "cell_type": "code",
      "execution_count": 10,
      "outputs": [
        {
          "data": {
            "text/plain": "TensorShape([3])"
          },
          "metadata": {},
          "output_type": "execute_result",
          "execution_count": 10
        }
      ],
      "source": [
        "filter \u003d vxm.losses.MIND().get_filter(3)\n",
        "filter\n",
        "filter.shape"
      ],
      "metadata": {
        "collapsed": false,
        "pycharm": {
          "name": "#%%\n",
          "is_executing": false
        }
      }
    },
    {
      "cell_type": "code",
      "execution_count": 11,
      "outputs": [
        {
          "data": {
            "text/plain": "\u003ctf.Tensor: shape\u003d(1, 1, 3), dtype\u003dfloat32, numpy\u003darray([[[0.10650697, 0.786986  , 0.10650697]]], dtype\u003dfloat32)\u003e"
          },
          "metadata": {},
          "output_type": "execute_result",
          "execution_count": 11
        }
      ],
      "source": [
        "f1 \u003d tf.reshape(filter,[1,1,3])\n",
        "f1"
      ],
      "metadata": {
        "collapsed": false,
        "pycharm": {
          "name": "#%%\n",
          "is_executing": false
        }
      }
    },
    {
      "cell_type": "code",
      "execution_count": 12,
      "outputs": [
        {
          "data": {
            "text/plain": "\u003ctf.Tensor: shape\u003d(1, 3, 1), dtype\u003dfloat32, numpy\u003d\narray([[[0.10650697],\n        [0.786986  ],\n        [0.10650697]]], dtype\u003dfloat32)\u003e"
          },
          "metadata": {},
          "output_type": "execute_result",
          "execution_count": 12
        }
      ],
      "source": [
        "f2 \u003d tf.reshape(filter,[1,3,1])\n",
        "f2"
      ],
      "metadata": {
        "collapsed": false,
        "pycharm": {
          "name": "#%%\n",
          "is_executing": false
        }
      }
    },
    {
      "cell_type": "code",
      "execution_count": 13,
      "outputs": [
        {
          "data": {
            "text/plain": "\u003ctf.Tensor: shape\u003d(3, 1, 1), dtype\u003dfloat32, numpy\u003d\narray([[[0.10650697]],\n\n       [[0.786986  ]],\n\n       [[0.10650697]]], dtype\u003dfloat32)\u003e"
          },
          "metadata": {},
          "output_type": "execute_result",
          "execution_count": 13
        }
      ],
      "source": [
        "f3 \u003d tf.reshape(filter,[3,1,1])\n",
        "f3"
      ],
      "metadata": {
        "collapsed": false,
        "pycharm": {
          "name": "#%%\n",
          "is_executing": false
        }
      }
    },
    {
      "cell_type": "code",
      "execution_count": 14,
      "outputs": [
        {
          "data": {
            "text/plain": "\u003ctf.Tensor: shape\u003d(3, 3, 3), dtype\u003dfloat32, numpy\u003d\narray([[[0.10650697, 1.573972  , 0.31952092],\n        [0.21301395, 2.360958  , 0.31952092],\n        [0.21301395, 2.360958  , 0.31952092]],\n\n       [[0.31952092, 3.147944  , 0.31952092],\n        [0.53253484, 4.721916  , 0.31952092],\n        [0.21301395, 2.360958  , 0.31952092]],\n\n       [[0.74554884, 6.295888  , 0.31952092],\n        [0.95856273, 0.        , 0.31952092],\n        [0.21301395, 2.360958  , 0.31952092]]], dtype\u003dfloat32)\u003e"
          },
          "metadata": {},
          "output_type": "execute_result",
          "execution_count": 14
        }
      ],
      "source": [
        "result \u003d tf.nn.convolution(tensor, f1)\n",
        "# result \u003d tf.nn.convolution(result, f2)\n",
        "# result \u003d tf.nn.convolution(result, f3)\n",
        "result"
      ],
      "metadata": {
        "collapsed": false,
        "pycharm": {
          "name": "#%%\n",
          "is_executing": false
        }
      }
    },
    {
      "cell_type": "code",
      "execution_count": 15,
      "outputs": [],
      "source": [
        "f1 \u003d tf.reshape(filter,[1,1,3,1,1])\n",
        "f2 \u003d tf.reshape(filter,[1,3,1,1,1])\n",
        "f3 \u003d tf.reshape(filter,[3,1,1,1,1])\n",
        "tensor \u003d tf.constant(\n",
        "    [\n",
        "        [[1,1,1],[1,1,1], [1,1,1]],\n",
        "        [[1,1,1],[1,1,1], [1,1,1]],\n",
        "        [[1,1,1],[1,1,1], [1,1,1]]\n",
        "    ],  dtype\u003dtf.float32\n",
        ")\n",
        "tensor \u003d tf.reshape(tensor, [1,3,3,3,1])"
      ],
      "metadata": {
        "collapsed": false,
        "pycharm": {
          "name": "#%%\n",
          "is_executing": false
        }
      }
    },
    {
      "cell_type": "code",
      "execution_count": 16,
      "outputs": [
        {
          "data": {
            "text/plain": "\u003ctf.Tensor: shape\u003d(3, 3, 3), dtype\u003dfloat32, numpy\u003d\narray([[[0.71330196, 0.79832953, 0.71330196],\n        [0.7983296 , 0.8934928 , 0.7983296 ],\n        [0.71330196, 0.7983296 , 0.71330196]],\n\n       [[0.7983296 , 0.89349276, 0.7983296 ],\n        [0.8934928 , 0.99999976, 0.8934928 ],\n        [0.7983296 , 0.8934928 , 0.7983296 ]],\n\n       [[0.7133019 , 0.79832953, 0.7133019 ],\n        [0.7983296 , 0.8934928 , 0.7983296 ],\n        [0.7133019 , 0.7983296 , 0.7133019 ]]], dtype\u003dfloat32)\u003e"
          },
          "metadata": {},
          "output_type": "execute_result",
          "execution_count": 16
        }
      ],
      "source": [
        "result \u003d tf.nn.convolution(tensor, f1, padding\u003d\"SAME\")\n",
        "result \u003d tf.nn.convolution(result, f2, padding\u003d\"SAME\")\n",
        "result \u003d tf.nn.convolution(result, f3, padding\u003d\"SAME\")\n",
        "tf.squeeze(result)"
      ],
      "metadata": {
        "collapsed": false,
        "pycharm": {
          "name": "#%%\n",
          "is_executing": false
        }
      }
    },
    {
      "cell_type": "code",
      "execution_count": 17,
      "outputs": [
        {
          "data": {
            "text/plain": "\u003ctf.Tensor: shape\u003d(1, 1, 3, 1, 1), dtype\u003dfloat32, numpy\u003d\narray([[[[[0.10650697]],\n\n         [[0.786986  ]],\n\n         [[0.10650697]]]]], dtype\u003dfloat32)\u003e"
          },
          "metadata": {},
          "output_type": "execute_result",
          "execution_count": 17
        }
      ],
      "source": [
        "f1"
      ],
      "metadata": {
        "collapsed": false,
        "pycharm": {
          "name": "#%%\n",
          "is_executing": false
        }
      }
    },
    {
      "cell_type": "code",
      "execution_count": 18,
      "outputs": [
        {
          "data": {
            "text/plain": "\u003ctf.Tensor: shape\u003d(1, 3, 1, 1, 1), dtype\u003dfloat32, numpy\u003d\narray([[[[[0.10650697]]],\n\n\n        [[[0.786986  ]]],\n\n\n        [[[0.10650697]]]]], dtype\u003dfloat32)\u003e"
          },
          "metadata": {},
          "output_type": "execute_result",
          "execution_count": 18
        }
      ],
      "source": [
        "f2"
      ],
      "metadata": {
        "collapsed": false,
        "pycharm": {
          "name": "#%%\n",
          "is_executing": false
        }
      }
    },
    {
      "cell_type": "code",
      "execution_count": 19,
      "outputs": [],
      "source": [
        "tensor \u003d tf.constant(\n",
        "    [\n",
        "        [[1,1,1],[1,1,1], [1,1,1]],\n",
        "        [[1,1,1],[1,1,1], [1,1,1]],\n",
        "        [[1,1,1],[1,1,1], [1,1,1]]\n",
        "    ],  dtype\u003dtf.float32\n",
        ")\n",
        "\n",
        "filter \u003d vxm.losses.MIND().get_filter(3)\n",
        "[xs,ys,zs] \u003d vxm.losses.MIND().search_region()\n",
        "Dp \u003d tf.Variable(tf.zeros(tensor.shape + len(xs)))"
      ],
      "metadata": {
        "collapsed": false,
        "pycharm": {
          "name": "#%%\n",
          "is_executing": false
        }
      }
    },
    {
      "cell_type": "code",
      "execution_count": 20,
      "outputs": [
        {
          "data": {
            "text/plain": "TensorShape([3, 3, 3])"
          },
          "metadata": {},
          "output_type": "execute_result",
          "execution_count": 20
        }
      ],
      "source": [
        "tensor.shape"
      ],
      "metadata": {
        "collapsed": false,
        "pycharm": {
          "name": "#%%\n",
          "is_executing": false
        }
      }
    },
    {
      "cell_type": "code",
      "execution_count": 20,
      "outputs": [],
      "source": [],
      "metadata": {
        "collapsed": false,
        "pycharm": {
          "name": "#%%\n",
          "is_executing": false
        }
      }
    },
    {
      "cell_type": "code",
      "execution_count": 21,
      "outputs": [
        {
          "data": {
            "text/plain": "\u003ctf.Tensor: shape\u003d(3, 3, 3, 6), dtype\u003dfloat32, numpy\u003d\narray([[[[0., 0., 0., 0., 0., 0.],\n         [0., 0., 0., 0., 0., 0.],\n         [0., 0., 0., 0., 0., 0.]],\n\n        [[0., 0., 0., 0., 0., 0.],\n         [0., 0., 0., 0., 0., 0.],\n         [0., 0., 0., 0., 0., 0.]],\n\n        [[0., 0., 0., 0., 0., 0.],\n         [0., 0., 0., 0., 0., 0.],\n         [0., 0., 0., 0., 0., 0.]]],\n\n\n       [[[0., 0., 0., 0., 0., 0.],\n         [0., 0., 0., 0., 0., 0.],\n         [0., 0., 0., 0., 0., 0.]],\n\n        [[0., 0., 0., 0., 0., 0.],\n         [0., 0., 0., 0., 0., 0.],\n         [0., 0., 0., 0., 0., 0.]],\n\n        [[0., 0., 0., 0., 0., 0.],\n         [0., 0., 0., 0., 0., 0.],\n         [0., 0., 0., 0., 0., 0.]]],\n\n\n       [[[0., 0., 0., 0., 0., 0.],\n         [0., 0., 0., 0., 0., 0.],\n         [0., 0., 0., 0., 0., 0.]],\n\n        [[0., 0., 0., 0., 0., 0.],\n         [0., 0., 0., 0., 0., 0.],\n         [0., 0., 0., 0., 0., 0.]],\n\n        [[0., 0., 0., 0., 0., 0.],\n         [0., 0., 0., 0., 0., 0.],\n         [0., 0., 0., 0., 0., 0.]]]], dtype\u003dfloat32)\u003e"
          },
          "metadata": {},
          "output_type": "execute_result",
          "execution_count": 21
        }
      ],
      "source": [
        "output_list \u003d []\n",
        "for i in range(len(xs)):\n",
        "    result \u003d tf.math.square(tf.math.subtract(tensor, vxm.losses.MIND().shift(tensor, xs[i], ys[i], zs[i])))\n",
        "    output_list.append(result)\n",
        "    # if i \u003d\u003d 6:\n",
        "    #     break\n",
        "Dp \u003d tf.stack(output_list, axis\u003d3)\n",
        "Dp"
      ],
      "metadata": {
        "collapsed": false,
        "pycharm": {
          "name": "#%%\n",
          "is_executing": false
        }
      }
    },
    {
      "cell_type": "code",
      "execution_count": 22,
      "outputs": [],
      "source": [
        "V \u003d (tf.math.reduce_mean(Dp, axis\u003d3))"
      ],
      "metadata": {
        "collapsed": false,
        "pycharm": {
          "name": "#%%\n",
          "is_executing": false
        }
      }
    },
    {
      "cell_type": "code",
      "execution_count": 23,
      "outputs": [
        {
          "name": "stdout",
          "text": [
            "WARNING:tensorflow:From \u003cipython-input-23-3ecfa231eaa3\u003e:1: is_gpu_available (from tensorflow.python.framework.test_util) is deprecated and will be removed in a future version.\nInstructions for updating:\nUse `tf.config.list_physical_devices(\u0027GPU\u0027)` instead.\n"
          ],
          "output_type": "stream"
        },
        {
          "data": {
            "text/plain": "True"
          },
          "metadata": {},
          "output_type": "execute_result",
          "execution_count": 23
        }
      ],
      "source": [
        "tf.test.is_gpu_available()\n",
        "\n"
      ],
      "metadata": {
        "collapsed": false,
        "pycharm": {
          "name": "#%%\n",
          "is_executing": false
        }
      }
    },
    {
      "cell_type": "code",
      "execution_count": 24,
      "outputs": [
        {
          "data": {
            "text/plain": "[PhysicalDevice(name\u003d\u0027/physical_device:GPU:0\u0027, device_type\u003d\u0027GPU\u0027)]"
          },
          "metadata": {},
          "output_type": "execute_result",
          "execution_count": 24
        }
      ],
      "source": [
        "tf.config.list_physical_devices(\u0027GPU\u0027)"
      ],
      "metadata": {
        "collapsed": false,
        "pycharm": {
          "name": "#%%\n",
          "is_executing": false
        }
      }
    },
    {
      "cell_type": "code",
      "execution_count": 24,
      "outputs": [],
      "source": "",
      "metadata": {
        "collapsed": false,
        "pycharm": {
          "name": "#%%\n",
          "is_executing": false
        }
      }
    },
    {
      "cell_type": "code",
      "execution_count": null,
      "outputs": [],
      "source": " \n",
      "metadata": {
        "pycharm": {
          "metadata": false,
          "name": "#%%\n"
        }
      }
    }
  ],
  "metadata": {
    "kernelspec": {
      "name": "pycharm-5c56230f",
      "language": "python",
      "display_name": "PyCharm (voxelmorph)"
    },
    "language_info": {
      "codemirror_mode": {
        "name": "ipython",
        "version": 2
      },
      "file_extension": ".py",
      "mimetype": "text/x-python",
      "name": "python",
      "nbconvert_exporter": "python",
      "pygments_lexer": "ipython2",
      "version": "2.7.6"
    }
  },
  "nbformat": 4,
  "nbformat_minor": 0
}